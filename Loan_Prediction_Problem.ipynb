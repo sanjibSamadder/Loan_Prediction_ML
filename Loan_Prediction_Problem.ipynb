{
 "cells": [
  {
   "cell_type": "markdown",
   "id": "d37e0342-ca40-4f00-a919-33d0473876c1",
   "metadata": {},
   "source": [
    "#### Loan Prediction With Machine Learning"
   ]
  },
  {
   "cell_type": "code",
   "execution_count": 156,
   "id": "2116e599-8dac-45cb-b611-4ffdedcbba5c",
   "metadata": {},
   "outputs": [
    {
     "name": "stdout",
     "output_type": "stream",
     "text": [
      "Model Accuracy: 0.68\n"
     ]
    }
   ],
   "source": [
    "# Importing necessary libraries\n",
    "import numpy as np\n",
    "import pandas as pd\n",
    "import matplotlib.pyplot as plt\n",
    "import seaborn as sns\n",
    "\n",
    "# Enabling inline plotting for Jupyter Notebooks\n",
    "%matplotlib inline \n",
    "\n",
    "# Loading the training dataset\n",
    "train_df = pd.read_csv(r\"E:\\Work Related\\ML Projects\\Loan Prediction Analysis with Random Forests\\loan_data_train.csv\")\n",
    "\n",
    "# Cleaning the dataset by dropping rows with missing values in critical columns\n",
    "train_df_clean = train_df.dropna(subset=['Gender', 'Married', 'Dependents', 'Self_Employed', 'LoanAmount', 'Loan_Amount_Term', 'Credit_History'])\n",
    "\n",
    "# Preparing features (X) and target (Y) variables\n",
    "X = train_df_clean.drop(['Loan_Status', 'Loan_ID'], axis=1)  # Dropping Loan_Status and Loan_ID from features\n",
    "Y = train_df_clean['Loan_Status']  # Target variable\n",
    "\n",
    "# Converting categorical variables into dummy/indicator variables\n",
    "X = pd.get_dummies(X)\n",
    "\n",
    "# Splitting the dataset into training and testing sets (80% train, 20% test)\n",
    "from sklearn.model_selection import train_test_split\n",
    "X_train, X_test, Y_train, Y_test = train_test_split(X, Y, test_size=0.2, random_state=1)\n",
    "\n",
    "# Initializing the Decision Tree Classifier\n",
    "from sklearn.tree import DecisionTreeClassifier\n",
    "model = DecisionTreeClassifier(random_state=1)\n",
    "\n",
    "# Fitting the model to the training data\n",
    "model.fit(X_train, Y_train)\n",
    "\n",
    "# Making predictions on the test set\n",
    "prediction = model.predict(X_test)\n",
    "\n",
    "# Evaluating the model's accuracy\n",
    "from sklearn.metrics import accuracy_score, classification_report\n",
    "accuracy = accuracy_score(Y_test, prediction)\n",
    "\n",
    "# Displaying the accuracy score\n",
    "print(f\"Model Accuracy: {accuracy:.2f}\")"
   ]
  },
  {
   "cell_type": "code",
   "execution_count": null,
   "id": "b1a19e78-3abc-4763-bc0c-43d0ea063c14",
   "metadata": {},
   "outputs": [],
   "source": []
  }
 ],
 "metadata": {
  "kernelspec": {
   "display_name": "Python 3 (ipykernel)",
   "language": "python",
   "name": "python3"
  },
  "language_info": {
   "codemirror_mode": {
    "name": "ipython",
    "version": 3
   },
   "file_extension": ".py",
   "mimetype": "text/x-python",
   "name": "python",
   "nbconvert_exporter": "python",
   "pygments_lexer": "ipython3",
   "version": "3.12.3"
  }
 },
 "nbformat": 4,
 "nbformat_minor": 5
}
